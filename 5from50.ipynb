{
 "cells": [
  {
   "cell_type": "code",
   "execution_count": 2,
   "metadata": {
    "_cell_guid": "b1076dfc-b9ad-4769-8c92-a6c4dae69d19",
    "_uuid": "8f2839f25d086af736a60e9eeb907d3b93b6e0e5",
    "tags": []
   },
   "outputs": [],
   "source": [
    "import numpy as np # linear algebra\n",
    "import pandas as pd # data processing, CSV file I/O (e.g. pd.read_csv)\n",
    "\n",
    "import matplotlib.pyplot as plt\n",
    "from matplotlib.patches import Shadow\n",
    "from matplotlib import cm\n",
    "from scipy import stats\n",
    "import seaborn as sb\n",
    "%matplotlib inline\n"
   ]
  },
  {
   "cell_type": "markdown",
   "metadata": {},
   "source": [
    "# [<a href=\"#\"><img align=\"left\" src=\"https://www.egosanto.de/src/assets/images/back2.png\" width=\"40\"></a>](#00) 5 from 50 and how to get reach\n",
    "# You dream about these Numbers and you want to know which rows you need to play to become a millionaire ?\n",
    "___\n",
    "Author: __Toni Zeidler__<br>\n",
    "www:    <a href=\"https://www.egosanto.de/index.html\" target=\"_blank\">https://www.egosanto.de</a><br>\n",
    "Stand:  __12.10.2021__<br>\n",
    "\n",
    "## <center>Content</center><a id=\"0\"></a>\n",
    "$$ \\binom{50}{5} = 2.118.760$$\n",
    "- [1. Load Data Frame from CSV file](#1)\n",
    "- [2. Shows first `5` rows](#2)\n",
    "- [3. Inspect the Data](#3)\n",
    "- [4. Binomial coefficient give us the permutations back](#4)\n",
    "- [5. Euro Zahlen `2` aus `10` ohne zurücklegen. All Permutations.](#5)\n",
    "- [6. You dream about these Numbers and you want to know which rows you need to play to become a millionaire `(3,8)`](#6)\n",
    "    - [6.1. All Permutations für `(3, 8)`](#6.1.)\n",
    "    - [6.2. Shows first `30` rows](#6.2.)\n",
    "    - [6.3. Shows the data `(17296 rows)` describtion in DataFrame](#6.3.)\n",
    "    - [6.4. Conclusions op Kölsch](#6.4.)\n",
    "- [7. You dream about these Numbers and you want to know which rows you need to play to become a millionaire `(3,8,10)`](#7.)\n",
    "    - [7.1. All Permutations for `(3, 8, 10)`](#7.1.)\n",
    "    - [7.2. Shows first `30` rows](#7.2.)\n",
    "    - [7.3. Shows the data `(1081 rows)` describtion in DataFrame](#7.3.)\n",
    "    - [7.4. Conclusions op Kölsch](#7.4.)\n",
    "- [8. You dream about these Numbers and you want to know which rows you need to play to become a millionaire `(3,8,10,27)`](#8.)\n",
    "    - [8.1. All Permutations for `(3, 8, 10, 27)`](#8.1.)\n",
    "    - [8.2. Shows first all rows](#8.2.)\n",
    "    - [8.3. Shows the data `(46 rows)` describtion in DataFrame](#8.3.)\n",
    "    - [8.4. Conclusions op Kölsch](#8.4.)"
   ]
  },
  {
   "cell_type": "markdown",
   "metadata": {},
   "source": [
    "## [<img align=\"left\" id=\"0\" src=\"https://www.egosanto.de/src/assets/images/back0.png\" width=40>](#0)1. Load Data Frame from CSV file<a id=\"1\"></a>\n",
    "In this csv file are all 2.118.760 rows generated"
   ]
  },
  {
   "cell_type": "code",
   "execution_count": null,
   "metadata": {
    "_cell_guid": "79c7e3d0-c299-4dcb-8224-4455121ee9b0",
    "_uuid": "d629ff2d2480ee46fbb7e2d37f6b5fab8052498a",
    "execution": {
     "iopub.execute_input": "2021-10-12T17:07:12.087495Z",
     "iopub.status.busy": "2021-10-12T17:07:12.087167Z",
     "iopub.status.idle": "2021-10-12T17:07:13.122784Z",
     "shell.execute_reply": "2021-10-12T17:07:13.121918Z",
     "shell.execute_reply.started": "2021-10-12T17:07:12.087461Z"
    }
   },
   "outputs": [],
   "source": [
    "df = pd.read_csv('../input/all-rows-5-from-50/allrows5from50.csv',index_col=0)"
   ]
  },
  {
   "cell_type": "markdown",
   "metadata": {},
   "source": [
    "## [<img align=\"left\" id=\"0\" src=\"https://www.egosanto.de/src/assets/images/back0.png\" width=40>](#0)2. Shows first 5 rows<a id=\"2\"></a>"
   ]
  },
  {
   "cell_type": "code",
   "execution_count": null,
   "metadata": {
    "execution": {
     "iopub.execute_input": "2021-10-12T17:07:13.12415Z",
     "iopub.status.busy": "2021-10-12T17:07:13.123758Z",
     "iopub.status.idle": "2021-10-12T17:07:13.138823Z",
     "shell.execute_reply": "2021-10-12T17:07:13.137655Z",
     "shell.execute_reply.started": "2021-10-12T17:07:13.124122Z"
    }
   },
   "outputs": [],
   "source": [
    "df.head()"
   ]
  },
  {
   "cell_type": "markdown",
   "metadata": {},
   "source": [
    "## [<img align=\"left\" id=\"0\" src=\"https://www.egosanto.de/src/assets/images/back0.png\" width=40>](#0)3. Inspect the Data<a id=\"3\"></a>"
   ]
  },
  {
   "cell_type": "code",
   "execution_count": null,
   "metadata": {
    "execution": {
     "iopub.execute_input": "2021-10-12T17:07:13.140848Z",
     "iopub.status.busy": "2021-10-12T17:07:13.140408Z",
     "iopub.status.idle": "2021-10-12T17:07:13.153618Z",
     "shell.execute_reply": "2021-10-12T17:07:13.152523Z",
     "shell.execute_reply.started": "2021-10-12T17:07:13.140805Z"
    }
   },
   "outputs": [],
   "source": [
    "df.info()"
   ]
  },
  {
   "cell_type": "markdown",
   "metadata": {},
   "source": [
    "## [<img align=\"left\" id=\"0\" src=\"https://www.egosanto.de/src/assets/images/back0.png\" width=40>](#0)4. Binomial coefficient give us the permutations back<a id=\"4\"></a>"
   ]
  },
  {
   "cell_type": "code",
   "execution_count": null,
   "metadata": {
    "execution": {
     "iopub.execute_input": "2021-10-12T17:07:13.156652Z",
     "iopub.status.busy": "2021-10-12T17:07:13.156344Z",
     "iopub.status.idle": "2021-10-12T17:07:13.164446Z",
     "shell.execute_reply": "2021-10-12T17:07:13.163259Z",
     "shell.execute_reply.started": "2021-10-12T17:07:13.156623Z"
    }
   },
   "outputs": [],
   "source": [
    "# Binomial coefficient, n über k\n",
    "\n",
    "def binomial(n, k):\n",
    "    ''' Binomial coefficient, n über k \n",
    "        n! / (k! * (n - k)!)\n",
    "        $\\binom{n}{k}$\n",
    "    '''\n",
    "    p = 1    \n",
    "    for i in range(1, min(k, n - k) + 1):\n",
    "        p *= n\n",
    "        p //= i\n",
    "        n -= 1\n",
    "    return p"
   ]
  },
  {
   "cell_type": "code",
   "execution_count": null,
   "metadata": {
    "execution": {
     "iopub.execute_input": "2021-10-12T17:07:13.167691Z",
     "iopub.status.busy": "2021-10-12T17:07:13.167393Z",
     "iopub.status.idle": "2021-10-12T17:07:13.179176Z",
     "shell.execute_reply": "2021-10-12T17:07:13.177958Z",
     "shell.execute_reply.started": "2021-10-12T17:07:13.167664Z"
    }
   },
   "outputs": [],
   "source": [
    "# Permutationen anzeigen\n",
    "binomial(50,5)"
   ]
  },
  {
   "cell_type": "markdown",
   "metadata": {},
   "source": [
    "## [<img align=\"left\" id=\"0\" src=\"https://www.egosanto.de/src/assets/images/back0.png\" width=40>](#0)5. Euro Zahlen 2 aus 10 ohne zurücklegen. All Permutations.<a id=\"5\"></a>"
   ]
  },
  {
   "cell_type": "code",
   "execution_count": null,
   "metadata": {
    "execution": {
     "iopub.execute_input": "2021-10-12T17:07:13.181072Z",
     "iopub.status.busy": "2021-10-12T17:07:13.180608Z",
     "iopub.status.idle": "2021-10-12T17:07:13.194703Z",
     "shell.execute_reply": "2021-10-12T17:07:13.193565Z",
     "shell.execute_reply.started": "2021-10-12T17:07:13.18104Z"
    }
   },
   "outputs": [],
   "source": [
    "# 1,2\n",
    "# 1,3\n",
    "# 1,4\n",
    "# 1,5\n",
    "# 1,6\n",
    "# 1,7\n",
    "# 1,8\n",
    "# 1,9\n",
    "# 1,10\n",
    "# 2,3\n",
    "# 2,4\n",
    "# ...\n",
    "# 9,10\n",
    "binomial(10,2)"
   ]
  },
  {
   "cell_type": "markdown",
   "metadata": {},
   "source": [
    "## [<img align=\"left\" id=\"0\" src=\"https://www.egosanto.de/src/assets/images/back0.png\" width=40>](#0) <a id=\"6\"></a>6. You dream about these Numbers and you want to know which rows you need to play to become a millionaire (3,8)\n",
    "- Binomialkoeffizient\n",
    "    $$\\binom{n}{k} = \\frac{n!}{k! * ( n - k )!}  $$ <br>\n",
    "- Fackültät Rechnung\n",
    "    $$n! = 1*2*3*4 ... n = \\prod_{k=1}^n{k} $$<br>\n",
    "- Alle Kombinationen von je 2 Zahlen von 5 Zahlen\n",
    "    $$\\binom{5}{2} = \\frac{5!}{2! * ( 5 - 2 )!} = $$<br>\n",
    "    $$ = \\frac{1*2*3*4*5}{1*2 * 1*2*3} = \\frac{120}{12} = 10 $$ <br>\n",
    "- Mögliche Kombinationen Reihen (Permutationen)\n",
    "    $$ (z1, z2, z3, z4, z5) $$<br>\n",
    "    \n",
    "    __erste Permutation__        $$ z1,z2 $$<br>\n",
    "    __zweite Permutation__       $$ z1,z3 $$<br>\n",
    "    __dritte Permutation__       $$ z1,z4 $$<br>\n",
    "    __vierte Permutation__       $$ z1,z5 $$<br>\n",
    "    __fünfte Permutation__       $$ z2,z3 $$<br>\n",
    "    __sechste Permutation__      $$ z2,z4 $$<br>\n",
    "    __siebte Permutation__       $$ z2,z5 $$<br>\n",
    "    __achte Permutation__        $$ z3,z4 $$<br>\n",
    "    __neunte Permutation__       $$ z3,z5 $$<br>\n",
    "    __zehnte Permutation__       $$ z4,z5 $$<br>\n",
    "    <br>"
   ]
  },
  {
   "cell_type": "markdown",
   "metadata": {},
   "source": [
    "### [<img align=\"left\" id=\"0\" src=\"https://www.egosanto.de/src/assets/images/back0.png\" width=40>](#0) 6.1. All Permutations für (3, 8)<a id=\"6.1.\"></a>"
   ]
  },
  {
   "cell_type": "code",
   "execution_count": null,
   "metadata": {
    "execution": {
     "iopub.execute_input": "2021-10-12T17:07:13.19655Z",
     "iopub.status.busy": "2021-10-12T17:07:13.196256Z",
     "iopub.status.idle": "2021-10-12T17:07:13.278648Z",
     "shell.execute_reply": "2021-10-12T17:07:13.277738Z",
     "shell.execute_reply.started": "2021-10-12T17:07:13.196521Z"
    }
   },
   "outputs": [],
   "source": [
    "df3_8 = df[(df['z1'] == 3) & (df['z2'] == 8) |\n",
    "   (df['z1'] == 3) & (df['z3'] == 8) |\n",
    "   (df['z1'] == 3) & (df['z4'] == 8) |\n",
    "   (df['z1'] == 3) & (df['z5'] == 8) |\n",
    "   (df['z2'] == 3) & (df['z3'] == 8) |\n",
    "   (df['z2'] == 3) & (df['z4'] == 8) |\n",
    "   (df['z2'] == 3) & (df['z5'] == 8) |\n",
    "   (df['z3'] == 3) & (df['z4'] == 8) |\n",
    "   (df['z3'] == 3) & (df['z5'] == 8) |\n",
    "   (df['z4'] == 3) & (df['z5'] == 8) ] \n"
   ]
  },
  {
   "cell_type": "markdown",
   "metadata": {},
   "source": [
    "### [<img align=\"left\" id=\"0\" src=\"https://www.egosanto.de/src/assets/images/back0.png\" width=40>](#0) 6.2. Shows first 30 rows<a id=\"6.2.\"></a>"
   ]
  },
  {
   "cell_type": "code",
   "execution_count": null,
   "metadata": {
    "execution": {
     "iopub.execute_input": "2021-10-12T17:07:13.280094Z",
     "iopub.status.busy": "2021-10-12T17:07:13.27979Z",
     "iopub.status.idle": "2021-10-12T17:07:13.294273Z",
     "shell.execute_reply": "2021-10-12T17:07:13.292981Z",
     "shell.execute_reply.started": "2021-10-12T17:07:13.280067Z"
    }
   },
   "outputs": [],
   "source": [
    "df3_8.head(30)"
   ]
  },
  {
   "cell_type": "markdown",
   "metadata": {},
   "source": [
    "### [<img align=\"left\" id=\"0\" src=\"https://www.egosanto.de/src/assets/images/back0.png\" width=40>](#0) 6.3. Shows the data (17296 rows) describtion in DataFrame<a id=\"6.3.\"></a>"
   ]
  },
  {
   "cell_type": "code",
   "execution_count": null,
   "metadata": {
    "execution": {
     "iopub.execute_input": "2021-10-12T17:07:13.296025Z",
     "iopub.status.busy": "2021-10-12T17:07:13.295632Z",
     "iopub.status.idle": "2021-10-12T17:07:13.30907Z",
     "shell.execute_reply": "2021-10-12T17:07:13.307932Z",
     "shell.execute_reply.started": "2021-10-12T17:07:13.295996Z"
    }
   },
   "outputs": [],
   "source": [
    "df3_8.info()"
   ]
  },
  {
   "cell_type": "markdown",
   "metadata": {},
   "source": [
    "### [<img align=\"left\" id=\"0\" src=\"https://www.egosanto.de/src/assets/images/back0.png\" width=40>](#0) 6.4. Exporting the DataFrame as a CSV file"
   ]
  },
  {
   "cell_type": "code",
   "execution_count": null,
   "metadata": {
    "execution": {
     "iopub.execute_input": "2021-10-12T17:07:13.310494Z",
     "iopub.status.busy": "2021-10-12T17:07:13.310235Z",
     "iopub.status.idle": "2021-10-12T17:07:13.608003Z",
     "shell.execute_reply": "2021-10-12T17:07:13.607235Z",
     "shell.execute_reply.started": "2021-10-12T17:07:13.31047Z"
    }
   },
   "outputs": [],
   "source": [
    "df3_8.to_csv('AllRows5f50_3_8.csv', sep=';')"
   ]
  },
  {
   "cell_type": "markdown",
   "metadata": {},
   "source": [
    "### [<img align=\"left\" id=\"0\" src=\"https://www.egosanto.de/src/assets/images/back0.png\" width=40>](#0) 6.5. Load DataFrame from CSV File"
   ]
  },
  {
   "cell_type": "code",
   "execution_count": null,
   "metadata": {
    "execution": {
     "iopub.execute_input": "2021-10-12T17:07:13.610178Z",
     "iopub.status.busy": "2021-10-12T17:07:13.609484Z",
     "iopub.status.idle": "2021-10-12T17:07:13.633702Z",
     "shell.execute_reply": "2021-10-12T17:07:13.632823Z",
     "shell.execute_reply.started": "2021-10-12T17:07:13.610135Z"
    }
   },
   "outputs": [],
   "source": [
    "df38 = pd.read_csv('AllRows5f50_3_8.csv',index_col=0,sep=';')\n",
    "df38.head()"
   ]
  },
  {
   "cell_type": "markdown",
   "metadata": {},
   "source": [
    "### [<img align=\"left\" id=\"0\" src=\"https://www.egosanto.de/src/assets/images/back0.png\" width=40>](#0) 6.6. Flexibly plot a univariate distribution of observations."
   ]
  },
  {
   "cell_type": "code",
   "execution_count": null,
   "metadata": {
    "execution": {
     "iopub.execute_input": "2021-10-12T17:07:13.63577Z",
     "iopub.status.busy": "2021-10-12T17:07:13.635134Z",
     "iopub.status.idle": "2021-10-12T17:07:14.079374Z",
     "shell.execute_reply": "2021-10-12T17:07:14.078243Z",
     "shell.execute_reply.started": "2021-10-12T17:07:13.635728Z"
    }
   },
   "outputs": [],
   "source": [
    "plt.figure(figsize=(19,6))\n",
    "plt.xlim(-5, 56)\n",
    "plt.xticks(np.arange(50))\n",
    "sb.distplot(df38,bins=50)"
   ]
  },
  {
   "cell_type": "code",
   "execution_count": null,
   "metadata": {
    "execution": {
     "iopub.execute_input": "2021-10-12T17:07:14.081454Z",
     "iopub.status.busy": "2021-10-12T17:07:14.081044Z",
     "iopub.status.idle": "2021-10-12T17:07:14.358693Z",
     "shell.execute_reply": "2021-10-12T17:07:14.357955Z",
     "shell.execute_reply.started": "2021-10-12T17:07:14.081412Z"
    }
   },
   "outputs": [],
   "source": [
    "plt.figure(figsize=(19,6))\n",
    "df38['z1'].hist()"
   ]
  },
  {
   "cell_type": "code",
   "execution_count": null,
   "metadata": {
    "execution": {
     "iopub.execute_input": "2021-10-12T17:07:14.360201Z",
     "iopub.status.busy": "2021-10-12T17:07:14.359761Z",
     "iopub.status.idle": "2021-10-12T17:07:14.53422Z",
     "shell.execute_reply": "2021-10-12T17:07:14.533394Z",
     "shell.execute_reply.started": "2021-10-12T17:07:14.36016Z"
    }
   },
   "outputs": [],
   "source": [
    "plt.figure(figsize=(19,6))\n",
    "df38['z2'].hist()"
   ]
  },
  {
   "cell_type": "code",
   "execution_count": null,
   "metadata": {
    "execution": {
     "iopub.execute_input": "2021-10-12T17:07:14.535701Z",
     "iopub.status.busy": "2021-10-12T17:07:14.535278Z",
     "iopub.status.idle": "2021-10-12T17:07:14.700348Z",
     "shell.execute_reply": "2021-10-12T17:07:14.699326Z",
     "shell.execute_reply.started": "2021-10-12T17:07:14.53566Z"
    }
   },
   "outputs": [],
   "source": [
    "plt.figure(figsize=(19,6))\n",
    "df38['z3'].hist()"
   ]
  },
  {
   "cell_type": "code",
   "execution_count": null,
   "metadata": {
    "execution": {
     "iopub.execute_input": "2021-10-12T17:07:14.702573Z",
     "iopub.status.busy": "2021-10-12T17:07:14.702138Z",
     "iopub.status.idle": "2021-10-12T17:07:14.866956Z",
     "shell.execute_reply": "2021-10-12T17:07:14.865784Z",
     "shell.execute_reply.started": "2021-10-12T17:07:14.702542Z"
    }
   },
   "outputs": [],
   "source": [
    "plt.figure(figsize=(19,6))\n",
    "df38['z4'].hist()"
   ]
  },
  {
   "cell_type": "code",
   "execution_count": null,
   "metadata": {
    "execution": {
     "iopub.execute_input": "2021-10-12T17:07:14.868862Z",
     "iopub.status.busy": "2021-10-12T17:07:14.868554Z",
     "iopub.status.idle": "2021-10-12T17:07:15.036346Z",
     "shell.execute_reply": "2021-10-12T17:07:15.035285Z",
     "shell.execute_reply.started": "2021-10-12T17:07:14.868833Z"
    }
   },
   "outputs": [],
   "source": [
    "plt.figure(figsize=(19,6))\n",
    "df38['z5'].hist()"
   ]
  },
  {
   "cell_type": "code",
   "execution_count": null,
   "metadata": {
    "execution": {
     "iopub.execute_input": "2021-10-12T17:07:15.0379Z",
     "iopub.status.busy": "2021-10-12T17:07:15.037599Z",
     "iopub.status.idle": "2021-10-12T17:07:15.574449Z",
     "shell.execute_reply": "2021-10-12T17:07:15.573633Z",
     "shell.execute_reply.started": "2021-10-12T17:07:15.037857Z"
    }
   },
   "outputs": [],
   "source": [
    "df38.plot.area(alpha=.4)"
   ]
  },
  {
   "cell_type": "code",
   "execution_count": null,
   "metadata": {
    "execution": {
     "iopub.execute_input": "2021-10-12T17:07:15.575847Z",
     "iopub.status.busy": "2021-10-12T17:07:15.575457Z",
     "iopub.status.idle": "2021-10-12T17:07:15.579637Z",
     "shell.execute_reply": "2021-10-12T17:07:15.578641Z",
     "shell.execute_reply.started": "2021-10-12T17:07:15.575819Z"
    }
   },
   "outputs": [],
   "source": [
    "#df38[['z1','z2']].plot.bar(stacked=True,figsize=(19,6))"
   ]
  },
  {
   "cell_type": "code",
   "execution_count": null,
   "metadata": {
    "execution": {
     "iopub.execute_input": "2021-10-12T17:07:15.581467Z",
     "iopub.status.busy": "2021-10-12T17:07:15.580999Z",
     "iopub.status.idle": "2021-10-12T17:07:16.592298Z",
     "shell.execute_reply": "2021-10-12T17:07:16.59119Z",
     "shell.execute_reply.started": "2021-10-12T17:07:15.581434Z"
    }
   },
   "outputs": [],
   "source": [
    "df38[['z1','z2']].plot.density(figsize=(19,6))"
   ]
  },
  {
   "cell_type": "code",
   "execution_count": null,
   "metadata": {
    "execution": {
     "iopub.execute_input": "2021-10-12T17:07:16.593888Z",
     "iopub.status.busy": "2021-10-12T17:07:16.593583Z",
     "iopub.status.idle": "2021-10-12T17:07:23.198193Z",
     "shell.execute_reply": "2021-10-12T17:07:23.197353Z",
     "shell.execute_reply.started": "2021-10-12T17:07:16.593846Z"
    }
   },
   "outputs": [],
   "source": [
    "sb.pairplot(df38)"
   ]
  },
  {
   "cell_type": "code",
   "execution_count": null,
   "metadata": {
    "execution": {
     "iopub.execute_input": "2021-10-12T17:07:23.199543Z",
     "iopub.status.busy": "2021-10-12T17:07:23.199181Z",
     "iopub.status.idle": "2021-10-12T17:07:23.384351Z",
     "shell.execute_reply": "2021-10-12T17:07:23.38319Z",
     "shell.execute_reply.started": "2021-10-12T17:07:23.199516Z"
    }
   },
   "outputs": [],
   "source": [
    "plt.figure(figsize=(19,6))\n",
    "sb.boxplot(data=df38,palette='rainbow')"
   ]
  },
  {
   "cell_type": "code",
   "execution_count": null,
   "metadata": {
    "execution": {
     "iopub.execute_input": "2021-10-12T17:07:23.386457Z",
     "iopub.status.busy": "2021-10-12T17:07:23.386029Z",
     "iopub.status.idle": "2021-10-12T17:07:23.405855Z",
     "shell.execute_reply": "2021-10-12T17:07:23.404707Z",
     "shell.execute_reply.started": "2021-10-12T17:07:23.386415Z"
    }
   },
   "outputs": [],
   "source": [
    "df38.corr()"
   ]
  },
  {
   "cell_type": "code",
   "execution_count": null,
   "metadata": {
    "execution": {
     "iopub.execute_input": "2021-10-12T17:07:23.407443Z",
     "iopub.status.busy": "2021-10-12T17:07:23.407171Z",
     "iopub.status.idle": "2021-10-12T17:07:23.686978Z",
     "shell.execute_reply": "2021-10-12T17:07:23.685619Z",
     "shell.execute_reply.started": "2021-10-12T17:07:23.407415Z"
    }
   },
   "outputs": [],
   "source": [
    "plt.figure(figsize=(19,15))\n",
    "sb.heatmap(df38.corr(),annot=True)"
   ]
  },
  {
   "cell_type": "markdown",
   "metadata": {},
   "source": [
    "### [<img align=\"left\" id=\"0\" src=\"https://www.egosanto.de/src/assets/images/back0.png\" width=40>](#0) 6.4. Conclusions op Kölsch<a id=\"6.4.\"></a>"
   ]
  },
  {
   "cell_type": "markdown",
   "metadata": {},
   "source": [
    "__EuroJackpot z.B. min. 10.000.000,-€ / Woche__<br>\n",
    "\n",
    "__17296 rows__ $*$ 45 Euro Zahlen = 778.320 rows $*$ 2,-€ = __1.556.640,-€__<br>\n",
    "__Gebühren:__ 778.320 rows / 9 = 86.480 Sheets $*$ 0,50€ = 43.240,-€<br>\n",
    "__Gesamt Ausgabe:__ 1.556.640,-€ + 43.240,-€ = 1.599.880,-€<br>\n",
    "__Gewinn Klasse 1 über 8.400.120,- € wenn allein Gewinner. Auf dieser Weise trifft man alle Gewinnklassen d.h. noch mehr Geld__<br>\n",
    "__Die schöne Diagramme sind nutzlos !__\n"
   ]
  },
  {
   "cell_type": "markdown",
   "metadata": {},
   "source": []
  },
  {
   "cell_type": "markdown",
   "metadata": {},
   "source": [
    "## [<img align=\"left\" id=\"0\" src=\"https://www.egosanto.de/src/assets/images/back0.png\" width=40>](#0) <a id=\"7.\"></a>7. You dream about these Numbers and you want to know which rows you need to play to become a millionaire (3,8,10)\n",
    "- Binomialkoeffizient\n",
    "    $$\\binom{n}{k} = \\frac{n!}{k! * ( n - k )!}  $$ <br>\n",
    "- Fackültät Rechnung\n",
    "    $$n! = 1*2*3*4 ... n = \\prod_{k=1}^n{k} $$<br>\n",
    "- Alle Kombinationen von je 2 Zahlen von 5 Zahlen\n",
    "    $$\\binom{5}{3} = \\frac{5!}{3! * ( 5 - 3 )!} = $$<br>\n",
    "    $$ = \\frac{1*2*3*4*5}{1*2*3 * 1*2} = \\frac{120}{12} = 10 $$ <br>\n",
    "- Mögliche Kombinationen Reihen (Permutationen)\n",
    "    $$ (z1, z2, z3, z4, z5) $$<br>\n",
    "    \n",
    "    __erste Permutation__        $$ z1,z2,z3 $$<br>\n",
    "    __zweite Permutation__       $$ z1,z2,z4 $$<br>\n",
    "    __dritte Permutation__       $$ z1,z2,z5 $$<br>\n",
    "    __vierte Permutation__       $$ z1,z3,z4 $$<br>\n",
    "    __fünfte Permutation__       $$ z1,z3,z5 $$<br>\n",
    "    __sechste Permutation__      $$ z1,z4,z5 $$<br>\n",
    "    __siebte Permutation__       $$ z2,z3,z4 $$<br>\n",
    "    __achte Permutation__        $$ z2,z3,z5 $$<br>\n",
    "    __neunte Permutation__       $$ z2,z4,z5 $$<br>\n",
    "    __zehnte Permutation__       $$ z3,z4,z5 $$<br>\n",
    "    <br>"
   ]
  },
  {
   "cell_type": "markdown",
   "metadata": {},
   "source": [
    "### [<img align=\"left\" id=\"0\" src=\"https://www.egosanto.de/src/assets/images/back0.png\" width=40>](#0) 7.1. All Permutations for (3, 8, 10)<a id=\"7.1.\"></a>"
   ]
  },
  {
   "cell_type": "code",
   "execution_count": null,
   "metadata": {
    "execution": {
     "iopub.execute_input": "2021-10-12T17:07:23.689014Z",
     "iopub.status.busy": "2021-10-12T17:07:23.688591Z",
     "iopub.status.idle": "2021-10-12T17:07:23.802476Z",
     "shell.execute_reply": "2021-10-12T17:07:23.80142Z",
     "shell.execute_reply.started": "2021-10-12T17:07:23.68897Z"
    }
   },
   "outputs": [],
   "source": [
    "df3_8_10 = df[(df['z1'] == 3) & (df['z2'] == 8) & (df['z3']==10) |\n",
    "   (df['z1'] == 3) & (df['z2'] == 8) & (df['z4']==10) |\n",
    "   (df['z1'] == 3) & (df['z2'] == 8) & (df['z5']==10) |\n",
    "   (df['z1'] == 3) & (df['z3'] == 8) & (df['z4']==10) |\n",
    "   (df['z1'] == 3) & (df['z3'] == 8) & (df['z5']==10) |\n",
    "   (df['z1'] == 3) & (df['z4'] == 8) & (df['z5']==10) |\n",
    "   (df['z2'] == 3) & (df['z3'] == 8) & (df['z4']==10) |\n",
    "   (df['z2'] == 3) & (df['z3'] == 8) & (df['z5']==10) |\n",
    "   (df['z2'] == 3) & (df['z4'] == 8) & (df['z5']==10) |\n",
    "   (df['z3'] == 3) & (df['z4'] == 8) & (df['z5']==10) ]"
   ]
  },
  {
   "cell_type": "markdown",
   "metadata": {},
   "source": [
    "### [<img align=\"left\" id=\"0\" src=\"https://www.egosanto.de/src/assets/images/back0.png\" width=40>](#0) 7.2. Shows first 30 rows<a id=\"7.2.\"></a>"
   ]
  },
  {
   "cell_type": "code",
   "execution_count": null,
   "metadata": {
    "execution": {
     "iopub.execute_input": "2021-10-12T17:07:23.804059Z",
     "iopub.status.busy": "2021-10-12T17:07:23.803773Z",
     "iopub.status.idle": "2021-10-12T17:07:23.817556Z",
     "shell.execute_reply": "2021-10-12T17:07:23.816639Z",
     "shell.execute_reply.started": "2021-10-12T17:07:23.804033Z"
    }
   },
   "outputs": [],
   "source": [
    "df3_8_10.head(30)"
   ]
  },
  {
   "cell_type": "markdown",
   "metadata": {},
   "source": [
    "### [<img align=\"left\" id=\"0\" src=\"https://www.egosanto.de/src/assets/images/back0.png\" width=40>](#0) 7.3. Shows the data (1081 rows) describtion in DataFrame<a id=\"7.3.\"></a>"
   ]
  },
  {
   "cell_type": "code",
   "execution_count": null,
   "metadata": {
    "execution": {
     "iopub.execute_input": "2021-10-12T17:07:23.81916Z",
     "iopub.status.busy": "2021-10-12T17:07:23.81886Z",
     "iopub.status.idle": "2021-10-12T17:07:23.833618Z",
     "shell.execute_reply": "2021-10-12T17:07:23.832481Z",
     "shell.execute_reply.started": "2021-10-12T17:07:23.819134Z"
    }
   },
   "outputs": [],
   "source": [
    "df3_8_10.info()"
   ]
  },
  {
   "cell_type": "markdown",
   "metadata": {},
   "source": [
    "### [<img align=\"left\" id=\"0\" src=\"https://www.egosanto.de/src/assets/images/back0.png\" width=40>](#0) 7.4. Conclusions op Kölsch<a id=\"7.4.\"></a>"
   ]
  },
  {
   "cell_type": "markdown",
   "metadata": {},
   "source": [
    "__EuroJackpot z.B. min. 10.000.000,-€ / Woche__<br>\n",
    "\n",
    "__1081 rows__ $*$ 45 Euro Zahlen = 48.645 rows $*$ 2,-€ = 97.290,-€<br>\n",
    "__Gebühren:__ 778.320 rows / 9 = 5.405 Sheets $*$ 0,50€ = 2.702,50-€<br>\n",
    "__Gesamt Ausgabe:__ 97.290,-€ + 2.702,50-€ = 99.992,-€<br>\n",
    "__Gewinn Klasse 1__ über 10.000.000,-€ - 97.290,-€ = 9.900.007,-€<br>\n",
    "__Gewinn Klasse 1 über 9.900.007,-€ wenn allein Gewinner. Auf dieser Weise trifft man alle Gewinnklassen d.h. noch mehr Geld !__"
   ]
  },
  {
   "cell_type": "markdown",
   "metadata": {},
   "source": [
    "## [<img align=\"left\" id=\"0\" src=\"https://www.egosanto.de/src/assets/images/back0.png\" width=40>](#0) <a id=\"8.\"></a>8. You dream about these Numbers and you want to know which rows you need to play to become a millionaire (3,8,10,27)\n",
    "- Binomialkoeffizient\n",
    "    $$\\binom{n}{k} = \\frac{n!}{k! * ( n - k )!}  $$ <br>\n",
    "- Fackültät Rechnung\n",
    "    $$n! = 1*2*3*4 ... n = \\prod_{k=1}^n{k} $$<br>\n",
    "- Alle Kombinationen von je 4 Zahlen von 5 Zahlen\n",
    "    $$\\binom{5}{4} = \\frac{5!}{4! * ( 5 - 4 )!} = $$<br>\n",
    "    $$ = \\frac{1*2*3*4*5}{1*2*3*4 * 1} = \\frac{120}{24} = 5 $$ <br>\n",
    "- Mögliche Kombinationen Reihen (Permutationen)\n",
    "    $$ (z1, z2, z3, z4, z5) $$<br>\n",
    "    \n",
    "    __erste Permutation__        $$ z1,z2,z3,z4 $$<br>\n",
    "    __zweite Permutation__       $$ z1,z2,z3,z5 $$<br>\n",
    "    __dritte Permutation__       $$ z1,z2,z4,z5 $$<br>\n",
    "    __vierte Permutation__       $$ z1,z3,z4,z5 $$<br>\n",
    "    __fünfte Permutation__       $$ z2,z3,z4,z5 $$<br>"
   ]
  },
  {
   "cell_type": "markdown",
   "metadata": {},
   "source": [
    "### [<img align=\"left\" id=\"0\" src=\"https://www.egosanto.de/src/assets/images/back0.png\" width=40>](#0) 8.1. All Permutations for (3, 8, 10, 27)<a id=\"8.1.\"></a>"
   ]
  },
  {
   "cell_type": "code",
   "execution_count": null,
   "metadata": {
    "execution": {
     "iopub.execute_input": "2021-10-12T17:07:23.835082Z",
     "iopub.status.busy": "2021-10-12T17:07:23.834768Z",
     "iopub.status.idle": "2021-10-12T17:07:23.919194Z",
     "shell.execute_reply": "2021-10-12T17:07:23.918244Z",
     "shell.execute_reply.started": "2021-10-12T17:07:23.835053Z"
    }
   },
   "outputs": [],
   "source": [
    "df3_8_10_27 = df[(df['z1'] == 3) & (df['z2'] == 8) & (df['z3']==10) & (df['z4']==27) | \n",
    "   (df['z1'] == 3) & (df['z2'] == 8) & (df['z3']==10) & (df['z5']==27) | \n",
    "   (df['z1'] == 3) & (df['z2'] == 8) & (df['z4']==10) & (df['z5']==27) | \n",
    "   (df['z1'] == 3) & (df['z3'] == 8) & (df['z4']==10) & (df['z5']==27) | \n",
    "   (df['z2'] == 3) & (df['z3'] == 8) & (df['z4']==10) & (df['z5']==27) ]"
   ]
  },
  {
   "cell_type": "markdown",
   "metadata": {},
   "source": [
    "### [<img align=\"left\" id=\"0\" src=\"https://www.egosanto.de/src/assets/images/back0.png\" width=40>](#0) 8.2. Shows first all rows<a id=\"8.2.\"></a>"
   ]
  },
  {
   "cell_type": "code",
   "execution_count": null,
   "metadata": {
    "execution": {
     "iopub.execute_input": "2021-10-12T17:07:23.9207Z",
     "iopub.status.busy": "2021-10-12T17:07:23.920311Z",
     "iopub.status.idle": "2021-10-12T17:07:23.93144Z",
     "shell.execute_reply": "2021-10-12T17:07:23.930203Z",
     "shell.execute_reply.started": "2021-10-12T17:07:23.920661Z"
    }
   },
   "outputs": [],
   "source": [
    "df3_8_10_27.head()"
   ]
  },
  {
   "cell_type": "markdown",
   "metadata": {},
   "source": [
    "### [<img align=\"left\" id=\"0\" src=\"https://www.egosanto.de/src/assets/images/back0.png\" width=40>](#0) 8.3. Shows the data (46 rows) describtion in DataFrame<a id=\"8.3.\"></a>"
   ]
  },
  {
   "cell_type": "code",
   "execution_count": null,
   "metadata": {
    "execution": {
     "iopub.execute_input": "2021-10-12T17:07:23.933043Z",
     "iopub.status.busy": "2021-10-12T17:07:23.93271Z",
     "iopub.status.idle": "2021-10-12T17:07:23.949021Z",
     "shell.execute_reply": "2021-10-12T17:07:23.947754Z",
     "shell.execute_reply.started": "2021-10-12T17:07:23.933011Z"
    }
   },
   "outputs": [],
   "source": [
    "df3_8_10_27.info()"
   ]
  },
  {
   "cell_type": "markdown",
   "metadata": {},
   "source": [
    "### [<img align=\"left\" id=\"0\" src=\"https://www.egosanto.de/src/assets/images/back0.png\" width=40>](#0) 8.4. Conclusions op Kölsch<a id=\"8.4.\"></a>"
   ]
  },
  {
   "cell_type": "markdown",
   "metadata": {},
   "source": [
    "__EuroJackpot z.B. min. 10.000.000,-€ / Woche__<br>\n",
    "\n",
    "__46 rows__ $*$ 45 Euro Zahlen = 2.070 rows $*$ 2,-€ = 4.140,-€<br>\n",
    "__Gebühren:__ 2.070 rows / 9 = 230 Sheets $*$ 0,50€ = 115-€<br>\n",
    "__Gesamt Ausgabe:__ 4.140,-€ + 115-€ = 4.255,-€<br>\n",
    "__Gewinn Klasse 1__ über 10.000.000,-€ - 4.255,-€ = 9.995.745,-€<br>\n",
    "__Gewinn Klasse 1 über 9.995.745,-€ wenn allein Gewinner. Auf dieser Weise trifft man alle Gewinnklassen d.h. noch mehr Geld!__"
   ]
  }
 ],
 "metadata": {
  "kernelspec": {
   "display_name": "Python 3 (ipykernel)",
   "language": "python",
   "name": "python3"
  },
  "language_info": {
   "codemirror_mode": {
    "name": "ipython",
    "version": 3
   },
   "file_extension": ".py",
   "mimetype": "text/x-python",
   "name": "python",
   "nbconvert_exporter": "python",
   "pygments_lexer": "ipython3",
   "version": "3.9.13"
  }
 },
 "nbformat": 4,
 "nbformat_minor": 4
}
